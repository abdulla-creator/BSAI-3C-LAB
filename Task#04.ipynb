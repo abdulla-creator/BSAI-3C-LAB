{
 "cells": [
  {
   "cell_type": "code",
   "execution_count": 1,
   "id": "410725b3",
   "metadata": {},
   "outputs": [
    {
     "name": "stdout",
     "output_type": "stream",
     "text": [
      "Choose an option:\n",
      "1. Check Luhn Algorithm\n",
      "2. Remove Punctuations\n",
      "3. Sort Sentence Alphabetically\n",
      "Invalid choice.\n"
     ]
    }
   ],
   "source": [
    "import string\n",
    "\n",
    "def luhn_algorithm(card_number):\n",
    "    digits = [int(d) for d in card_number if d.isdigit()]\n",
    "    checksum = 0\n",
    "    for i, d in enumerate(reversed(digits)):\n",
    "        if i % 2 == 1:\n",
    "            d *= 2\n",
    "            if d > 9:\n",
    "                d -= 9\n",
    "        checksum += d\n",
    "    return checksum % 10 == 0\n",
    "\n",
    "def remove_punctuations(text):\n",
    "    return \"\".join(ch for ch in text if ch not in string.punctuation)\n",
    "\n",
    "def sort_sentence(sentence):\n",
    "    words = sentence.split()\n",
    "    words.sort(key=str.lower)\n",
    "    return \" \".join(words)\n",
    "\n",
    "print(\"Choose an option:\")\n",
    "print(\"1. Check Luhn Algorithm\")\n",
    "print(\"2. Remove Punctuations\")\n",
    "print(\"3. Sort Sentence Alphabetically\")\n",
    "\n",
    "choice = input(\"Enter your choice (1/2/3): \")\n",
    "\n",
    "if choice == \"1\":\n",
    "    number = input(\"Enter the card number: \")\n",
    "    if luhn_algorithm(number):\n",
    "        print(\"The number is valid.\")\n",
    "    else:\n",
    "        print(\"The number is invalid.\")\n",
    "elif choice == \"2\":\n",
    "    text = input(\"Enter a string: \")\n",
    "    print(\"Without punctuations:\", remove_punctuations(text))\n",
    "elif choice == \"3\":\n",
    "    sentence = input(\"Enter a sentence: \")\n",
    "    print(\"Sorted sentence:\", sort_sentence(sentence))\n",
    "else:\n",
    "    print(\"Invalid choice.\")\n"
   ]
  }
 ],
 "metadata": {
  "kernelspec": {
   "display_name": "base",
   "language": "python",
   "name": "python3"
  },
  "language_info": {
   "codemirror_mode": {
    "name": "ipython",
    "version": 3
   },
   "file_extension": ".py",
   "mimetype": "text/x-python",
   "name": "python",
   "nbconvert_exporter": "python",
   "pygments_lexer": "ipython3",
   "version": "3.12.7"
  }
 },
 "nbformat": 4,
 "nbformat_minor": 5
}
