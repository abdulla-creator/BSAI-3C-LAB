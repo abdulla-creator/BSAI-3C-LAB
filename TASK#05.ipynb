{
 "cells": [
  {
   "cell_type": "code",
   "execution_count": 2,
   "id": "1a8de89d",
   "metadata": {},
   "outputs": [
    {
     "name": "stdout",
     "output_type": "stream",
     "text": [
      "DFS With Stack & Node: [0, 1, 3, 2, 4]\n"
     ]
    }
   ],
   "source": [
    "class Node:\n",
    "    def __init__(self, value):\n",
    "        self.value = value\n",
    "        self.neighbors = []\n",
    "        self.visited = False\n",
    "\n",
    "def dfs_with_stack(start):\n",
    "    stack = [start]\n",
    "    order = []\n",
    "    start.visited = True\n",
    "    while stack:\n",
    "        current = stack.pop()\n",
    "        order.append(current.value)\n",
    "        for neighbor in reversed(current.neighbors):\n",
    "            if not neighbor.visited:\n",
    "                neighbor.visited = True\n",
    "                stack.append(neighbor)\n",
    "    return order\n",
    "\n",
    "node0 = Node(0)\n",
    "node1 = Node(1)\n",
    "node2 = Node(2)\n",
    "node3 = Node(3)\n",
    "node4 = Node(4)\n",
    "\n",
    "node0.neighbors = [node1, node2]\n",
    "node1.neighbors = [node3]\n",
    "node2.neighbors = [node4]\n",
    "node3.neighbors = []\n",
    "node4.neighbors = []\n",
    "\n",
    "print(\"DFS With Stack & Node:\", dfs_with_stack(node0))\n"
   ]
  },
  {
   "cell_type": "code",
   "execution_count": 1,
   "id": "83ff6895",
   "metadata": {},
   "outputs": [
    {
     "name": "stdout",
     "output_type": "stream",
     "text": [
      "Inorder: [4, 2, 5, 1, 6, 3, 7]\n",
      "Preorder: [1, 2, 4, 5, 3, 6, 7]\n",
      "Postorder: [4, 5, 2, 6, 7, 3, 1]\n"
     ]
    }
   ],
   "source": [
    "class TreeNode:\n",
    "    def __init__(self, value):\n",
    "        self.value = value\n",
    "        self.left = None\n",
    "        self.right = None\n",
    "\n",
    "def inorder(root):\n",
    "    return inorder(root.left) + [root.value] + inorder(root.right) if root else []\n",
    "\n",
    "def preorder(root):\n",
    "    return [root.value] + preorder(root.left) + preorder(root.right) if root else []\n",
    "\n",
    "def postorder(root):\n",
    "    return postorder(root.left) + postorder(root.right) + [root.value] if root else []\n",
    "\n",
    "root = TreeNode(1)\n",
    "root.left = TreeNode(2)\n",
    "root.right = TreeNode(3)\n",
    "root.left.left = TreeNode(4)\n",
    "root.left.right = TreeNode(5)\n",
    "root.right.left = TreeNode(6)\n",
    "root.right.right = TreeNode(7)\n",
    "\n",
    "print(\"Inorder:\", inorder(root))\n",
    "print(\"Preorder:\", preorder(root))\n",
    "print(\"Postorder:\", postorder(root))"
   ]
  }
 ],
 "metadata": {
  "kernelspec": {
   "display_name": "base",
   "language": "python",
   "name": "python3"
  },
  "language_info": {
   "codemirror_mode": {
    "name": "ipython",
    "version": 3
   },
   "file_extension": ".py",
   "mimetype": "text/x-python",
   "name": "python",
   "nbconvert_exporter": "python",
   "pygments_lexer": "ipython3",
   "version": "3.12.7"
  }
 },
 "nbformat": 4,
 "nbformat_minor": 5
}
