{
 "cells": [
  {
   "cell_type": "code",
   "execution_count": 1,
   "id": "e6a465f7",
   "metadata": {},
   "outputs": [
    {
     "name": "stdout",
     "output_type": "stream",
     "text": [
      "1\n",
      "2\n",
      "Fizz\n",
      "4\n",
      "Buzz\n",
      "Fizz\n",
      "7\n",
      "8\n",
      "Fizz\n",
      "Buzz\n",
      "11\n",
      "Fizz\n",
      "13\n",
      "14\n",
      "Fizz Buzz\n",
      "16\n",
      "17\n",
      "Fizz\n",
      "19\n",
      "Buzz\n",
      "Fizz\n",
      "22\n",
      "23\n",
      "Fizz\n",
      "Buzz\n",
      "26\n"
     ]
    }
   ],
   "source": [
    "for number in range(1, 27):\n",
    "    if number % 3 == 0 and number % 5 == 0:\n",
    "        print(\"Fizz Buzz\")\n",
    "    elif number % 3 == 0:\n",
    "        print(\"Fizz\")\n",
    "    elif number % 5 == 0:\n",
    "        print(\"Buzz\")\n",
    "    else:\n",
    "        print(number)"
   ]
  },
  {
   "cell_type": "code",
   "execution_count": 2,
   "id": "2b1a2eea",
   "metadata": {},
   "outputs": [
    {
     "name": "stdout",
     "output_type": "stream",
     "text": [
      "Average movie budget: $190,500,000\n",
      "\n",
      "Pirates of the Caribbean: On Stranger Tides had a budget $188,500,000 above average.\n",
      "Avengers: Age of Ultron had a budget $174,500,000 above average.\n",
      "Avengers: Endgame had a budget $165,500,000 above average.\n",
      "Incredibles 2 had a budget $9,500,000 above average.\n",
      "300 had a budget $759,500,000 above average.\n",
      "\n",
      "Number of movies above average: 5\n"
     ]
    }
   ],
   "source": [
    "movies = [\n",
    "    (\"Eternal Sunshine of the Spotless Mind\", 20000000),\n",
    "    (\"Memento\", 9000000),\n",
    "    (\"Requiem for a Dream\", 4500000),\n",
    "    (\"Pirates of the Caribbean: On Stranger Tides\", 379000000),\n",
    "    (\"Avengers: Age of Ultron\", 365000000),\n",
    "    (\"Avengers: Endgame\", 356000000),\n",
    "    (\"Incredibles 2\", 200000000)\n",
    "]\n",
    "\n",
    "total_budget = sum(budget for _, budget in movies)\n",
    "average_budget = total_budget / len(movies)\n",
    "\n",
    "print(f\"Average movie budget: ${average_budget:,.0f}\\n\")\n",
    "num_new = int(input(\"How many movies would you like to add? \"))\n",
    "\n",
    "for _ in range(num_new):\n",
    "    title = input(\"Enter movie name: \")\n",
    "    budget = int(input(\"Enter movie budget: \"))\n",
    "    movies.append((title, budget))\n",
    "\n",
    "above_average_movies = []\n",
    "for name, budget in movies:\n",
    "    if budget > average_budget:\n",
    "        difference = budget - average_budget\n",
    "        print(f\"{name} had a budget ${difference:,.0f} above average.\")\n",
    "        above_average_movies.append(name)\n",
    "\n",
    "\n",
    "print(f\"\\nNumber of movies above average: {len(above_average_movies)}\")\n"
   ]
  },
  {
   "cell_type": "code",
   "execution_count": null,
   "id": "c2fd03c9",
   "metadata": {},
   "outputs": [],
   "source": []
  }
 ],
 "metadata": {
  "kernelspec": {
   "display_name": "base",
   "language": "python",
   "name": "python3"
  },
  "language_info": {
   "codemirror_mode": {
    "name": "ipython",
    "version": 3
   },
   "file_extension": ".py",
   "mimetype": "text/x-python",
   "name": "python",
   "nbconvert_exporter": "python",
   "pygments_lexer": "ipython3",
   "version": "3.12.7"
  }
 },
 "nbformat": 4,
 "nbformat_minor": 5
}
