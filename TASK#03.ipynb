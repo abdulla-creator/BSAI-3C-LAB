{
 "cells": [
  {
   "cell_type": "code",
   "execution_count": 1,
   "id": "9a300340",
   "metadata": {},
   "outputs": [
    {
     "name": "stdout",
     "output_type": "stream",
     "text": [
      "Temp: 18 => Turn Heater ON\n",
      "Temp: 19 => No Change\n",
      "Temp: 21 => Do Nothing\n",
      "Temp: 22 => No Change\n",
      "Temp: 24 => No Change\n",
      "Temp: 26 => Turn Heater OFF\n",
      "Temp: 27 => No Change\n",
      "Temp: 23 => Do Nothing\n",
      "Temp: 21 => No Change\n",
      "Temp: 19 => Turn Heater ON\n"
     ]
    }
   ],
   "source": [
    "class ModelBasedReflexAgent:\n",
    "    def __init__(self):\n",
    "        self.previous_action = None\n",
    "\n",
    "    def decide(self, temperature):\n",
    "        if temperature < 20:\n",
    "            action = \"Turn Heater ON\"\n",
    "        elif temperature > 25:\n",
    "            action = \"Turn Heater OFF\"\n",
    "        else:\n",
    "            action = \"Do Nothing\"\n",
    "        if action == self.previous_action:\n",
    "            return \"No Change\"\n",
    "        self.previous_action = action\n",
    "        return action\n",
    "\n",
    "agent = ModelBasedReflexAgent()\n",
    "temperatures = [18, 19, 21, 22, 24, 26, 27, 23, 21, 19]\n",
    "\n",
    "for t in temperatures:\n",
    "    print(\"Temp:\", t, \"=>\", agent.decide(t))\n"
   ]
  },
  {
   "cell_type": "code",
   "execution_count": null,
   "id": "b9207de0",
   "metadata": {},
   "outputs": [],
   "source": []
  }
 ],
 "metadata": {
  "kernelspec": {
   "display_name": "base",
   "language": "python",
   "name": "python3"
  },
  "language_info": {
   "codemirror_mode": {
    "name": "ipython",
    "version": 3
   },
   "file_extension": ".py",
   "mimetype": "text/x-python",
   "name": "python",
   "nbconvert_exporter": "python",
   "pygments_lexer": "ipython3",
   "version": "3.12.7"
  }
 },
 "nbformat": 4,
 "nbformat_minor": 5
}
